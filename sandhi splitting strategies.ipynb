{
 "cells": [
  {
   "cell_type": "code",
   "execution_count": null,
   "metadata": {},
   "outputs": [],
   "source": [
    "import pandas as pd\n",
    "from modules import *"
   ]
  },
  {
   "cell_type": "markdown",
   "metadata": {},
   "source": [
    "requirements\n",
    "1. all words in a sutta text which don't match an inflected form\n",
    "2. set of all inflected forms with all sandhi, idioms, prefxes, suffixes etc. excluded\n",
    "3. sandhi rules"
   ]
  },
  {
   "cell_type": "code",
   "execution_count": null,
   "metadata": {},
   "outputs": [],
   "source": [
    "create_inflection_table_index()\n",
    "create_inflection_table_df()\n",
    "test_inflection_pattern_changed()\n",
    "create_dpd_df()\n",
    "test_for_missing_stem_and_pattern()\n",
    "test_for_wrong_patterns()\n",
    "test_for_differences_in_stem_and_pattern()\n",
    "test_if_inflections_exist_suttas()\n",
    "generate_changed_inflected_forms()\n",
    "combine_old_and_new_dataframes()\n",
    "export_inflections_to_pickle()\n",
    "# make_list_of_all_inflections()\n",
    "# make_list_of_all_inflections_no_meaning()\n",
    "# make_list_of_all_inflections_no_eg2()\n"
   ]
  },
  {
   "cell_type": "code",
   "execution_count": null,
   "metadata": {},
   "outputs": [],
   "source": [
    "def make_list_of_all_inflections():\n",
    "\tprint(\"~\" * 40)\n",
    "\tprint(\"creating all inflections df\")\n",
    "\n",
    "\tglobal all_inflections_df\n",
    "\tall_inflections_df = pd.read_csv(\"output/all inflections.csv\", header=None, sep=\"\\t\")\n",
    "\n",
    "\tprint(\"~\" * 40)\n",
    "\tprint(\"making master list of all inflections\")\n",
    "\tprint(\"~\" * 40)\n",
    "\n",
    "\tglobal all_inflections_list\n",
    "\tall_inflections_string = \"\"\n",
    "\tfor row in range (all_inflections_df.shape[0]):\n",
    "\t\theadword = all_inflections_df.iloc[row, 0]\n",
    "\t\tinflections = all_inflections_df.iloc[row, 1]\n",
    "\t\tall_inflections_string += inflections\n",
    "\t\t\n",
    "\t\tif row %5000 == 0:\n",
    "\t\t\tprint(f\"{row} {headword}\")\n",
    "\n",
    "\n",
    "\tall_inflections_list = all_inflections_string.split()\n",
    "\tall_inflections_list = all_inflections_string.split()\n",
    "\tall_inflections_list = list(dict.fromkeys(all_inflections_list))\n",
    "\n",
    "make_list_of_all_inflections()\n",
    "print(all_inflections_list)"
   ]
  },
  {
   "cell_type": "code",
   "execution_count": null,
   "metadata": {},
   "outputs": [],
   "source": [
    "import re\n",
    "\n",
    "def read_and_clean_sutta_text():\n",
    "\n",
    "\tprint(\"~\" * 40)\n",
    "\tprint(\"reading and cleaning sutta file\")\n",
    "\tprint(\"~\" * 40)\n",
    "\t\n",
    "\tglobal sutta_file\n",
    "\tsutta_file = \"sutta text/sutta text original.txt\"\n",
    "\n",
    "\twith open(f\"{sutta_file}\", 'r') as input_file :\n",
    "\t\tsutta_text = input_file.read()\n",
    "\n",
    "\tsutta_text = clean_machine(sutta_text)\n",
    "\tsutta_text = re.sub(\"\\<br\\> \", \"\", sutta_text)\n",
    "\tsutta_text = re.sub(\"⟪\", \"\", sutta_text)\n",
    "\tsutta_text = re.sub(\"⟫\", \"\", sutta_text)\n",
    "\n",
    "\twith open(f\"sutta text/sutta text clean.txt\", \"w\") as output_file:\n",
    "\t\toutput_file.write(sutta_text)\n",
    "\n",
    "read_and_clean_sutta_text()"
   ]
  },
  {
   "cell_type": "code",
   "execution_count": 71,
   "metadata": {},
   "outputs": [
    {
     "name": "stdout",
     "output_type": "stream",
     "text": [
      "~~~~~~~~~~~~~~~~~~~~~~~~~~~~~~~~~~~~~~~~\n",
      "making list of sandhi words in sutta\n",
      "['bhikkhavoti', 'bhadanteti', 'bhāsissāmīti', 'bhanteti', '', 'tassāti', 'abhiññatvā', 'tathāgatopi', 'tathāgatassāti', 'mūlanti', 'jarāmaraṇanti', 'abhisambuddhoti', 'vadāmīti', 'tebhikkhū', 'abhinandunti', 'anāgatamaddhānanti', 'bhavissatīti', 'attāti', 'sañjānāmīti', 'anattanāva', 'ṭhassatīti', 'dukkhasmāti', 'dukkhasamudayoti', 'dukkhanirodhoti', 'paṭipadāti', 'yañhissa', 'purāṇañca', 'navañca', 'cāti', 'acchejji', 'dukkhassāti', 'āmisadāyādāti', 'dhammadāyādāti', 'opilāpessāmīti', 'tatrekassa', 'imināva', 'rattidivaṃ', 'vītināmeyyanti', 'asuyeva', 'bhikkhaveti', 'āvusoti', 'vivekamanusikkhantīti', 'dhāressantīti', 'evamāvusoti', 'pahānamāha', 'nānusikkhantīti', 'nappajahantīti', 'nikkhittadhurāti', 'vivekamanusikkhanti', 'pajahantīti', 'pubbaṅgamāti', 'maccherañca', 'sāṭheyyañca', 'saṃvattatīti', 'sārāṇīyaṃ', 'samādāpetā', 'āpajjatīti', 'bhikkhunoti', 'mayhampi', 'bodhisattasseva', 'parisuddhakāyakammantohamasmi', 'aññataroti', 'parisuddhājīvohamasmi', 'anabhijjhālūhamasmi', 'mettacittohamasmi', 'vigatathīnamiddhohamasmi', 'vūpasantacittohamasmi', 'tiṇṇavicikicchohamasmi', 'aparavambhīhamasmi', 'vigatalomahaṃsohamasmi', 'appicchohamasmi', 'āraddhavīriyohamasmi', 'upaṭṭhitassatihamasmi', 'samādhisampannohamasmi', 'paññāsampannohamasmi', 'passeyyanti', 'paṇṇasaṭaṃ', 'āgacchatīti', 'bhayapāṭikaṅkhī', 'tathābhūtova', 'yathābhūtova', 'paṭivineyyanti', 'caṅkamantova', 'ṭhitova', 'nisinnova', 'nipannova', 'rattiṃyeva', 'divāti', 'divāyeva', 'rattīti', 'idamahaṃ', 'devamanussānanti', 'appammuṭṭhā', 'vivicceva', 'sukhañca', 'sukhavihārīti', 'dvepi', 'tissopi', 'catassopi', 'pañcapi', 'dasapi', 'vīsampi', 'tiṃsampi', 'cattālīsampi', 'paññāsampi', 'jātisatampi', 'jātisahassampi', 'jātisatasahassampi', 'anekepi', 'amutrāsiṃ', 'idhūpapannoti', 'upapannāti', 'āsavāti', 'āsavasamudayoti', 'āsavanirodhoti', 'kāmāsavāpi', 'bhavāsavāpi', 'avijjāsavāpi', 'vimuttamiti', 'itthattāyāti', 'ajjāpi', 'paṭisevatīti', 'pacchimañca', 'anukampamānoti', 'dakkhantīti', 'dhammañca', 'bhikkhusaṅghañca', 'gatanti', 'sāṅgaṇova', 'aṅgaṇanti', 'anaṅgaṇova', 'sāṅgaṇānaṃyeva', 'anaṅgaṇānaṃyeva', 'akkhāyatīti', 'yenimesaṃ', 'tassaṅgaṇassa', 'malaggahitāti', 'paribhuñjeyyuñceva', 'pariyodapeyyuñca', 'pariyodātāti', 'anuddhaṃsessatiso', 'saṃkiliṭṭhacittokālaṃkarissati', 'āpattiñca', 'āpannoti', 'saṅghamajjheti', 'anurahoti', 'appaṭipuggaloti', 'sappaṭipuggaloti', 'deseyyāti', 'desetīti', 'paviseyyunti', 'pavisantīti', 'aggapiṇḍanti', 'anumodeyyāti', 'anumodāmīti', 'desemīti', 'pūjeyyunti', 'pūjentīti', 'cīvarānanti', 'gilānappaccayabhesajjaparikkhārānanti', 'viyāti', 'avāpuritvā', 'paṭikūlatā', 'pāṭikūlyatā', 'jegucchitā', 'jighacchitānampi', 'vicinitakāḷakaṃ', 'suhitānampi', 'paṭibhātīti', 'moggallānāti', 'suddhāssa', 'patiṭṭhitāti', 'tacchatīti', 'keṭubhino', 'patiṭṭhāpetīti', 'adhimuttakamālaṃ', 'samanumodiṃsūti', 'ākaṅkheyyasuttaṃ', 'garubhāvaniyo', 'cīvarapiṇḍapātasenāsanagilānappaccayabhesajjaparikkhārānanti', 'yesāhaṃ', 'cīvarapiṇḍapātasenāsana', 'mahānisaṃsāti', 'mahānisaṃsanti', 'vihareyyanti', 'akasiralābhīti', 'sambodhiparāyaṇoti', 'kareyyanti', 'lokāti', 'ekopi', 'bahudhāpi', 'pathaviyāpi', 'udakepi', 'ākāsepi', 'imepi', 'brahmalokāpi', 'vatteyyanti', 'cittanti', 'pajāneyyanti', 'satasahassampi', 'anussareyyanti', 'sikkhāpadesūti', 'vuttanti', 'mañjeṭṭhikāya', 'durattavaṇṇamevassa', 'aparisuddhavaṇṇamevassa', 'surattavaṇṇamevassa', 'parisuddhavaṇṇamevassa', 'upakkilesoti', 'bhagavāti', 'viññūhīti', 'lokassāti', 'yatodhi', 'pāṭhantaraṃ', 'samannāgatomhīti', 'paṭinissaṭṭhanti', 'panāgamma', 'nissaraṇanti', 'sinānenāti', 'sināyitunti', 'karissatīti', 'lokhyasammatā', 'mokkhasammatā', 'pavāhetīti', 'adhikakkañca', 'mapi', 'sundarikāmapi', 'payāgañca', 'niccampi', 'payāgo', 'suddhassuposatho', 'udapānopi', 'gayāti', 'upasampadanti', 'ahosīti', 'hotīti', 'viharāmīti', 'adukkhamasuṃ', 'ākāsoti', 'viññāṇanti', 'kiñcīti', 'bhavissāmāti', 'cittuppādampi', 'tassāssa', 'amāyāvitā', 'sandiṭṭhiparāmāsiādhānaggāhiduppaṭinissaggissa', 'asandiṭṭhiparāmāsianādhānaggāhisuppaṭinissaggitā', 'uparibhāvāya', 'uddharissatīti', 'parinibbāpessatīti', 'anusāsanīti', 'abhinandīti', 'catuttālīsapadā', 'sāgarūpamoti', 'sammādiṭṭhīti', 'ujugatāssa', 'saddhammanti', 'akusalañca', 'akusalamūlañca', 'kusalañca', 'kusalamūlañca', 'kāmesumicchācāro', 'sādhāvusoti', 'aññopi', 'āhārañca', 'āhārasamudayañca', 'āhāranirodhañca', 'paṭipadañca', 'dukkhañca', 'dukkhasamudayañca', 'dukkhanirodhañca', 'jātipi', 'jarāpi', 'maraṇampi', 'sokaparidevadukkhadomanassupāyāsāpi', 'sampayogopi', 'vippayogopi', 'pañcupādānakkhandhāpi', 'nandirāgasahagatā', 'jarāmaraṇañca', 'jarāmaraṇasamudayañca', 'jarāmaraṇanirodhañca', 'satipaṭṭhānasuttepi', 'jarāmaraṇasamudaṃ', 'jātiñca', 'jātisamudayañca', 'jātinirodhañca', 'bhavañca', 'bhavasamudayañca', 'bhavanirodhañca', 'upādānañca', 'upādānasamudayañca', 'upādānanirodhañca', 'taṇhañca', 'taṇhāsamudayañca', 'taṇhānirodhañca', 'vedanañca', 'vedanāsamudayañca', 'vedanānirodhañca', 'phassañca', 'phassasamudayañca', 'phassanirodhañca', 'saḷāyatanañca', 'saḷāyatanasamudayañca', 'saḷāyatananirodhañca', 'nāmarūpañca', 'nāmarūpasamudayañca', 'nāmarūpanirodhañca', 'catunnañca', 'viññāṇañca', 'viññāṇasamudayañca', 'viññāṇanirodhañca', 'saṅkhārasamudayañca', 'saṅkhāranirodhañca', 'avijjañca', 'avijjāsamudayañca', 'avijjānirodhañca', 'āsavañca', 'āsavasamudayañca', 'āsavanirodhañca', 'imāpi', 'katamanti', 'assasāmīti', 'passasāmīti', 'assasissāmīti', 'passasissāmīti', 'añchāmīti', 'kāyoti', 'gacchāmīti', 'ṭhitomhīti', 'nisinnomhīti', 'sayānomhīti', 'muttanti', 'matthaluṅganti', 'mūtoḷī', 'taṇḍulāti', 'vāyodhātūti', 'evaṃanatītoti', 'anatītoti', 'apagatanhārusambandhāni', 'gopphakaṭṭhikanti', 'kaṭaṭṭhikaṃ', 'piṭṭhaṭṭhikaṃ', 'kaṇṭakaṭṭhikaṃ', 'uraṭṭhikaṃ', 'saṅkhavaṇṇūpanibhāni', 'vedayāmīti', 'vedanāti', 'kāmacchandoti', 'byāpādoti', 'thīnamiddhanti', 'uddhaccakukkuccanti', 'vicikicchāti', 'dhammāti', 'atthaṅgamoti', 'cakkhuñca', 'sotañca', 'ghānañca', 'jivhañca', 'kāyañca', 'manañca', 'satisambojjhaṅgoti', 'dhammavicayasambojjhaṅgoti', 'vīriyasambojjhaṅgoti', 'pītisambojjhaṅgoti', 'passaddhisambojjhaṅgoti', 'samādhisambojjhaṅgoti', 'upekkhāsambojjhaṅgoti', 'katamañca', 'dukkhoti', 'taṃniddeso', 'sumaṅgalavilāsiniyaṃpi', 'taṃsaṃvaṇṇanā', 'āgaccheyyāti', 'sokaparidevadukkhadomanassupāyāsadhammānaṃ', 'sokaparidevadukkhadomanassupāyāsadhammā', 'āgaccheyyunti', 'nirujjhāmānā', 'anāgāmitāti', 'satipaṭṭhānāti', 'tassuddānaṃ', 'bhūtamiti', 'tividhaggipiḷesitanibbāpanaṃ', 'byādhipanudanaosadhayo', 'pacchimasuttapavarā', 'madhumandavarasāmadānaṃ', 'jananimanusaṅghātaṃ', 'sakyaputtānamabhidamanatthāya', 'diyaḍhḍasataṃ', 'tevanāmagataṃ', 'mūlasusaṃvaradhammadāyādā', 'bheravānaṅgaṇākaṅkheyyavatthaṃ', 'sallekhasammādiṭṭhisatipaṭṭhaṃ']\n"
     ]
    }
   ],
   "source": [
    "def make_sandhi_list():\n",
    "\n",
    "\tprint(\"~\" * 40)\n",
    "\tprint(\"making list of sandhi words in sutta\")\n",
    "\n",
    "\twith open(f\"sutta text/sutta text clean.txt\") as text_to_split:\n",
    "\t\tword_llst=[word for line in text_to_split for word in line.split(\" \")]\n",
    "\n",
    "\tglobal sutta_words_df\n",
    "\tsutta_words_df = pd.DataFrame(word_llst)\n",
    "\n",
    "\tinflection_test = sutta_words_df[0].isin(all_inflections_list)\n",
    "\tsutta_words_df[\"Inflection\"] = inflection_test\n",
    "\t\n",
    "\tsutta_words_df.rename(columns={0 :\"Pali\"}, inplace=True)\n",
    "\n",
    "\tsutta_words_df.drop_duplicates(subset=[\"Pali\"], keep=\"first\", inplace=True)\n",
    "\n",
    "\tglobal sandhi_list\n",
    "\tsandhi_list = sutta_words_df[\"Pali\"][sutta_words_df[\"Inflection\"] == False].tolist()\n",
    "\n",
    "\t# print(sandhi_list)\n",
    "\n",
    "\tglobal sandhi_df\n",
    "\tsandhi_df = pd.DataFrame(sandhi_list, index=None)\n",
    "\n",
    "make_sandhi_list()"
   ]
  },
  {
   "cell_type": "code",
   "execution_count": 73,
   "metadata": {},
   "outputs": [],
   "source": [
    "sandhi_df.to_csv(\"sutta text/sandhi df.csv\", header=False, index=False)"
   ]
  },
  {
   "cell_type": "code",
   "execution_count": null,
   "metadata": {},
   "outputs": [],
   "source": []
  }
 ],
 "metadata": {
  "interpreter": {
   "hash": "7e1998ff7f8aa20ada591c520b972326324e5ea05489af9e422744c7c09f6dad"
  },
  "kernelspec": {
   "display_name": "Python 3.10.0 64-bit",
   "language": "python",
   "name": "python3"
  },
  "language_info": {
   "codemirror_mode": {
    "name": "ipython",
    "version": 3
   },
   "file_extension": ".py",
   "mimetype": "text/x-python",
   "name": "python",
   "nbconvert_exporter": "python",
   "pygments_lexer": "ipython3",
   "version": "3.10.0"
  },
  "orig_nbformat": 4
 },
 "nbformat": 4,
 "nbformat_minor": 2
}
