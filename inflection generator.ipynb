{
 "cells": [
  {
   "cell_type": "code",
   "execution_count": 24,
   "metadata": {},
   "outputs": [],
   "source": [
    "# first convert ods to csv\n",
    "\n",
    "import pandas as pd"
   ]
  },
  {
   "cell_type": "markdown",
   "metadata": {},
   "source": [
    "read in inflections table"
   ]
  },
  {
   "cell_type": "code",
   "execution_count": 25,
   "metadata": {},
   "outputs": [],
   "source": [
    "inflection_df = pd.read_excel('/home/bhikkhu/Bodhirasa/Dropbox/dpd/inflection-generator/declensions & conjugations.xlsx', sheet_name=\"declensions\", dtype=str)\n",
    "\n",
    "inflection_df = inflection_df.shift(periods=2)\n",
    "\n",
    "inflection_df.columns = [\"A\", \"B\", \"C\", \"D\", \"E\", \"F\", \"G\", \"H\", \"I\", \"J\", \"K\", \"L\", \"M\", \"N\", \"O\", \"P\", \"Q\", \"R\", \"S\", \"T\", \"U\", \"V\", \"W\", \"X\", \"Y\", \"Z\", \"AA\", \"AB\", \"AC\", \"AD\", \"AE\", \"AF\", \"AG\", \"AH\", \"AI\", \"AJ\", \"AK\", \"AL\", \"AM\", \"AN\", \"AO\", \"AP\", \"AQ\", \"AR\", \"AS\", \"AT\", \"AU\", \"AV\", \"AW\", \"AX\", \"AY\", \"AZ\", \"BA\", \"BB\", \"BC\", \"BD\", \"BE\", \"BF\", \"BG\", \"BH\", \"BI\", \"BJ\", \"BK\", \"BL\", \"BM\", \"BN\", \"BO\", \"BP\", \"BQ\", \"BR\", \"BS\", \"BT\", \"BU\", \"BV\", \"BW\", \"BX\", \"BY\", \"BZ\", \"CA\", \"CB\", \"CC\", \"CD\", \"CE\", \"CF\", \"CG\", \"CH\", \"CI\", \"CJ\", \"CK\", \"CL\", \"CM\", \"CN\", \"CO\", \"CP\", \"CQ\", \"CR\", \"CS\", \"CT\", \"CU\", \"CV\", \"CW\", \"CX\", \"CY\", \"CZ\", \"DA\", \"DB\", \"DC\", \"DD\", \"DE\", \"DF\", \"DG\", \"DH\", \"DI\", \"DJ\", \"DK\"]\n",
    "inflection_df.fillna(\"\", inplace=True)"
   ]
  },
  {
   "cell_type": "markdown",
   "metadata": {},
   "source": [
    "read index"
   ]
  },
  {
   "cell_type": "code",
   "execution_count": 26,
   "metadata": {},
   "outputs": [],
   "source": [
    "index_df = pd.read_excel('/home/bhikkhu/Bodhirasa/Dropbox/dpd/inflection-generator/declensions & conjugations.xlsx', sheet_name=\"index\", dtype=str)\n",
    "index_df.fillna(\"\", inplace=True)\n",
    "# index_df[\"inflection name\"] = index_df[\"inflection name\"].str.replace(\" \", \"_\") #only needed if using as variable\n",
    "index_df_length = len(index_df)"
   ]
  },
  {
   "cell_type": "markdown",
   "metadata": {},
   "source": [
    "generate df's of each inflection pattern"
   ]
  },
  {
   "cell_type": "code",
   "execution_count": 27,
   "metadata": {},
   "outputs": [],
   "source": [
    "import re\n",
    "\n",
    "for row in range(index_df_length):\n",
    "\tinflection_name = index_df.iloc[row,0]\n",
    "\tcell_range = index_df.iloc[row,1]\n",
    "\tlike = index_df.iloc[row,2]\n",
    "\tirreg = index_df.iloc[row,3]\n",
    "\t\n",
    "\tcol_range_1 = re.sub(\"(.+?)\\d*\\:.+\", \"\\\\1\", cell_range)\n",
    "\tcol_range_2 = re.sub(\".+\\:(.[A-Z]*)\\d*\", \"\\\\1\", cell_range)\n",
    "\trow_range_1 = int(re.sub(\".+?(\\d{1,3}):.+\", \"\\\\1\", cell_range))\n",
    "\trow_range_2 = int(re.sub(\".+:.+?(\\d{1,3})\", \"\\\\1\", cell_range))\n",
    "\n",
    "\t# print (f\"{inflection_name} || {cell_range} || {col_range_1}:{col_range_2} || {row_range_1}:{row_range_2}\")\n",
    "\n",
    "\tinflection_df_filtered = inflection_df.loc[row_range_1:row_range_2, col_range_1:col_range_2]\n",
    "\tinflection_df_filtered.Name =  f\"{inflection_name}\" #help! change the name to \"inflection name\" \n",
    "\n",
    "\tinflection_df_filtered.to_csv(f\"output/patterns/{inflection_name}.csv\", sep=\"\\t\", index=False, header=False)"
   ]
  },
  {
   "cell_type": "markdown",
   "metadata": {},
   "source": [
    "generate csv for each headword"
   ]
  },
  {
   "cell_type": "code",
   "execution_count": 28,
   "metadata": {},
   "outputs": [
    {
     "name": "stdout",
     "output_type": "stream",
     "text": [
      "0 ā\n",
      "1000 accimant 2\n",
      "2000 ajapāla\n",
      "3000 āṇa\n",
      "4000 anucara 2\n",
      "5000 aparihāna\n",
      "6000 āsaṅkitaparisaṅkita\n",
      "7000 avabodha 1\n",
      "8000 bālavasanta\n",
      "9000 bindava\n",
      "10000 chanda 2\n",
      "11000 dāyajja 1\n",
      "12000 dubbalaṭṭhāna\n",
      "13000 evarūpopi\n",
      "14000 gumba 2\n",
      "15000 iṭṭhikā\n",
      "16000 kāḷī\n",
      "17000 kathaṃdassī\n",
      "18000 kiṃsamācāra\n",
      "19000 līna 1\n",
      "20000 mandavāta\n",
      "21000 mūsikā\n",
      "22000 nevasaññānāsaññāyatanasamāpatti\n",
      "23000 nirantara\n",
      "24000 otāraṇa\n",
      "25000 pajjhāyanta\n",
      "26000 papañcayanta\n",
      "27000 parisussi\n",
      "28000 paṭiladdhapaccaya\n",
      "29000 petaloka\n",
      "30000 pūrenta\n",
      "31000 sabbayogavisaṃyutta\n",
      "32000 sāmañña 6\n",
      "33000 saṃsīdana\n",
      "34000 saññāpaññatti\n",
      "35000 sāyanīya 1\n",
      "36000 sudinna\n",
      "37000 tañhi\n",
      "38000 tiṇadosa\n",
      "39000 ukkoṭitita\n",
      "40000 uppajjanaudaka\n",
      "41000 vante\n",
      "42000 vigarahanta\n",
      "43000 vippakiṇṇa 2\n",
      "44000 vuṭṭhāpeti\n"
     ]
    }
   ],
   "source": [
    "dpd_df = pd.read_csv(\"/home/bhikkhu/Bodhirasa/Dropbox/dpd/csvs/dpd.csv\", sep=\"\\t\", dtype=str)\n",
    "dpd_df.fillna(\"\", inplace=True)\n",
    "dpd_df_length = len(dpd_df)\n",
    "\n",
    "all_inflections = \"\"\n",
    "\n",
    "for row in range(dpd_df_length): #dpd_df_length\n",
    "\theadword = dpd_df.loc[row, \"Pāli1\"]\n",
    "\theadword_clean = re.sub(\" \\d*$\", \"\", headword)\n",
    "\tstem = dpd_df.loc[row, \"Stem\"]\n",
    "\tif stem == \"*\":\n",
    "\t\tstem = \"\"\n",
    "\tpattern = dpd_df.loc[row, \"Pattern\"]\n",
    "\tpos = dpd_df.loc[row, \"POS\"]\n",
    "\tmetadata = dpd_df.loc[row, \"Metadata\"]\n",
    "\tmeaning = dpd_df.loc[row, \"Meaning IN CONTEXT\"]\n",
    "\n",
    "\tif row % 2000 == 0:\n",
    "\t\tprint(f\"{row} {headword}\")\n",
    "\n",
    "\tif pos != \"prefix\" and pos != \"cs\" and pos != \"suffix\" and pos != \"ve\" and pos != \"idiom\" and meaning != \"\" and metadata != \"yes\":\n",
    "\t\t# print(f\"{headword=} {headword_clean=} {stem=} {pattern=} {pos=} {metadata=} {meaning=}\")\n",
    "\n",
    "\t\tif stem == \"-\":\n",
    "\t\t\tall_inflections += headword_clean + \" \"\n",
    "\n",
    "\t\telif stem == \"!\":\n",
    "\t\t\tall_inflections += headword_clean + \" \"\n",
    "\n",
    "\t\telse:\n",
    "\t\t\ttry:\n",
    "\t\t\t\tdf = pd.read_csv(f\"output/patterns/{pattern}.csv\", sep=\"\\t\", header=None)\n",
    "\t\t\t\tdf.fillna(\"\", inplace=True)\n",
    "\t\t\t\tdf_rows = df.shape[0]\n",
    "\t\t\t\tdf_columns = df.shape[1]\n",
    "\n",
    "\t\t\t\tfor rows in range(1, df_rows):\n",
    "\t\t\t\t\tfor columns in range(1, df_columns, 2):\n",
    "\t\t\t\t\t\tline = df.iloc[rows, columns]\n",
    "\t\t\t\t\t\tif line == \"sg\" or line == \"pl\":\n",
    "\t\t\t\t\t\t\tpass\n",
    "\n",
    "\t\t\t\t\t\telse:\n",
    "\t\t\t\t\t\t\tline = re.sub(r\"(.+)\", f\"{stem}\\\\1\", line)\n",
    "\t\t\t\t\t\t\tsearch_string = re.compile(\"\\n\", re.M)\n",
    "\t\t\t\t\t\t\treplace_string = \" \"\n",
    "\t\t\t\t\t\t\tmatches = re.sub(search_string, replace_string, line)\n",
    "\n",
    "\t\t\t\t\t\t\tall_inflections += matches + \" \"\n",
    "\t\t\t\t\t\t\n",
    "\t\t\texcept:\n",
    "\t\t\t\twith open(\"output/errors.txt\", \"a\") as error_log:\n",
    "\t\t\t\t\terror_log.write(f\"error on: {headword}\\n\")"
   ]
  },
  {
   "cell_type": "code",
   "execution_count": 29,
   "metadata": {},
   "outputs": [],
   "source": [
    "all_inflections_list = all_inflections.split()\n",
    "all_inflections_list = list(dict.fromkeys(all_inflections_list))\n",
    "all_inflections_df = pd.DataFrame(all_inflections_list)\n",
    "all_inflections_df.to_csv(\"output/all_inflections_df.csv\", index=False, header=False)"
   ]
  },
  {
   "cell_type": "code",
   "execution_count": null,
   "metadata": {},
   "outputs": [],
   "source": []
  }
 ],
 "metadata": {
  "interpreter": {
   "hash": "8a94588eda9d64d9e9a351ab8144e55b1fabf5113b54e67dd26a8c27df0381b3"
  },
  "kernelspec": {
   "display_name": "Python 3.10.1 64-bit",
   "language": "python",
   "name": "python3"
  },
  "language_info": {
   "codemirror_mode": {
    "name": "ipython",
    "version": 3
   },
   "file_extension": ".py",
   "mimetype": "text/x-python",
   "name": "python",
   "nbconvert_exporter": "python",
   "pygments_lexer": "ipython3",
   "version": "3.10.1"
  },
  "orig_nbformat": 4
 },
 "nbformat": 4,
 "nbformat_minor": 2
}
