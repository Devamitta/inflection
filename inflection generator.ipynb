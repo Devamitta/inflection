{
 "cells": [
  {
   "cell_type": "code",
   "execution_count": 2,
   "metadata": {},
   "outputs": [],
   "source": [
    "# first convert ods to csv\n",
    "\n",
    "import pandas as pd\n",
    "import pickle\n",
    "from aksharamukha import transliterate\n",
    "import re"
   ]
  },
  {
   "cell_type": "markdown",
   "metadata": {},
   "source": [
    "read in inflections table"
   ]
  },
  {
   "cell_type": "code",
   "execution_count": 2,
   "metadata": {},
   "outputs": [],
   "source": [
    "print(\"~\" * 40)\n",
    "print(\"inflection generator.ipynb\")\n",
    "\n",
    "inflection_df = pd.read_excel('/home/bhikkhu/Bodhirasa/Dropbox/dpd/inflection-generator/declensions & conjugations.xlsx', sheet_name=\"declensions\", dtype=str)\n",
    "\n",
    "inflection_df = inflection_df.shift(periods=2)\n",
    "\n",
    "inflection_df.columns = [\"A\", \"B\", \"C\", \"D\", \"E\", \"F\", \"G\", \"H\", \"I\", \"J\", \"K\", \"L\", \"M\", \"N\", \"O\", \"P\", \"Q\", \"R\", \"S\", \"T\", \"U\", \"V\", \"W\", \"X\", \"Y\", \"Z\", \"AA\", \"AB\", \"AC\", \"AD\", \"AE\", \"AF\", \"AG\", \"AH\", \"AI\", \"AJ\", \"AK\", \"AL\", \"AM\", \"AN\", \"AO\", \"AP\", \"AQ\", \"AR\", \"AS\", \"AT\", \"AU\", \"AV\", \"AW\", \"AX\", \"AY\", \"AZ\", \"BA\", \"BB\", \"BC\", \"BD\", \"BE\", \"BF\", \"BG\", \"BH\", \"BI\", \"BJ\", \"BK\", \"BL\", \"BM\", \"BN\", \"BO\", \"BP\", \"BQ\", \"BR\", \"BS\", \"BT\", \"BU\", \"BV\", \"BW\", \"BX\", \"BY\", \"BZ\", \"CA\", \"CB\", \"CC\", \"CD\", \"CE\", \"CF\", \"CG\", \"CH\", \"CI\", \"CJ\", \"CK\", \"CL\", \"CM\", \"CN\", \"CO\", \"CP\", \"CQ\", \"CR\", \"CS\", \"CT\", \"CU\", \"CV\", \"CW\", \"CX\", \"CY\", \"CZ\", \"DA\", \"DB\", \"DC\", \"DD\", \"DE\", \"DF\", \"DG\", \"DH\", \"DI\", \"DJ\", \"DK\"]\n",
    "inflection_df.fillna(\"\", inplace=True)"
   ]
  },
  {
   "cell_type": "markdown",
   "metadata": {},
   "source": [
    "read index"
   ]
  },
  {
   "cell_type": "code",
   "execution_count": 3,
   "metadata": {},
   "outputs": [],
   "source": [
    "index_df = pd.read_excel('/home/bhikkhu/Bodhirasa/Dropbox/dpd/inflection-generator/declensions & conjugations.xlsx', sheet_name=\"index\", dtype=str)\n",
    "index_df.fillna(\"\", inplace=True)\n",
    "# index_df[\"inflection name\"] = index_df[\"inflection name\"].str.replace(\" \", \"_\") #only needed if using as variable\n",
    "index_df_length = len(index_df)\n",
    "\n",
    "index_df.columns\n",
    "index_dict = dict(zip(index_df.iloc[:, 0], index_df.iloc[:, 2]))"
   ]
  },
  {
   "cell_type": "markdown",
   "metadata": {},
   "source": [
    "generate df's of each inflection pattern"
   ]
  },
  {
   "cell_type": "code",
   "execution_count": 4,
   "metadata": {},
   "outputs": [],
   "source": [
    "import re\n",
    "\n",
    "for row in range(index_df_length):\n",
    "\tinflection_name = index_df.iloc[row,0]\n",
    "\tcell_range = index_df.iloc[row,1]\n",
    "\tlike = index_df.iloc[row,2]\n",
    "\tirreg = index_df.iloc[row,3]\n",
    "\n",
    "\tcol_range_1 = re.sub(\"(.+?)\\d*\\:.+\", \"\\\\1\", cell_range)\n",
    "\tcol_range_2 = re.sub(\".+\\:(.[A-Z]*)\\d*\", \"\\\\1\", cell_range)\n",
    "\trow_range_1 = int(re.sub(\".+?(\\d{1,3}):.+\", \"\\\\1\", cell_range))\n",
    "\trow_range_2 = int(re.sub(\".+:.+?(\\d{1,3})\", \"\\\\1\", cell_range))\n",
    "\n",
    "\tinflection_df_filtered = inflection_df.loc[row_range_1:row_range_2, col_range_1:col_range_2]\n",
    "\tinflection_df_filtered.Name =  f\"{inflection_name}\" #help! change the name to \"inflection name\" \n",
    "\n",
    "\tinflection_df_filtered.iloc[0,0] = \"\"\n",
    "\n",
    "\tinflection_df_filtered.to_csv(f\"output/patterns/{inflection_name}.csv\", sep=\"\\t\", index=False, header=False)"
   ]
  },
  {
   "cell_type": "markdown",
   "metadata": {},
   "source": [
    "create df and test"
   ]
  },
  {
   "cell_type": "code",
   "execution_count": 5,
   "metadata": {},
   "outputs": [
    {
     "name": "stdout",
     "output_type": "stream",
     "text": [
      "no stem & pattern errors found, continuing ...\n"
     ]
    }
   ],
   "source": [
    "dpd_df = pd.read_csv(\"/home/bhikkhu/Bodhirasa/Dropbox/dpd/csvs/dpd-full.csv\", sep=\"\\t\", dtype=str)\n",
    "dpd_df.fillna(\"\", inplace=True) \n",
    "dpd_df_length = len(dpd_df)\n",
    "\n",
    "#empty stem\n",
    "\n",
    "error = False\n",
    "\n",
    "for row in range(dpd_df_length):\n",
    "\theadword = dpd_df.loc[row, \"Pāli1\"]\n",
    "\tstem = dpd_df.loc[row, \"Stem\"]\n",
    "\tpattern = dpd_df.loc[row, \"Pattern\"]\n",
    "\t\n",
    "\tif stem == \"\":\n",
    "\t\tprint(f\"stem error: {headword} has no stem!\")\n",
    "\t\terror = True\n",
    "\tif stem != \"-\" and pattern == \"\":\n",
    "\t\tprint(f\"pattern error: {headword} has no pattern!\")\n",
    "\t\terror = True\n",
    "\n",
    "if error == True:\n",
    "\tinput(\"there are stem & pattern errors, please fix them before continuiing\")\n",
    "\texit()\n",
    "else:\n",
    "\tprint(\"no stem & pattern errors found, continuing ...\")\n"
   ]
  },
  {
   "cell_type": "markdown",
   "metadata": {},
   "source": [
    "generate all inflection tables & synonyms"
   ]
  },
  {
   "cell_type": "code",
   "execution_count": 6,
   "metadata": {},
   "outputs": [
    {
     "name": "stdout",
     "output_type": "stream",
     "text": [
      "~~~~~~~~~~~~~~~~~~~~~~~~~~~~~~~~~~~~~~~~\n",
      "generating inflection tables\n",
      "0 akakkasa\n",
      "5000 ambila 2\n",
      "10000 ubhayathā\n",
      "15000 guṇa 3\n",
      "20000 duggandha 1\n",
      "25000 paṭisevi\n",
      "30000 buddhālambana\n",
      "35000 vajjetvā\n",
      "40000 sandhiccheda 1\n"
     ]
    }
   ],
   "source": [
    "print(\"~\" * 40)\n",
    "print(\"generating inflection tables & synonyms\")\n",
    "print(\"~\" * 40)\n",
    "\n",
    "indeclinables = [\"abbrev\", \"abs\", \"ger\", \"ind\", \"inf\", \"prefix\"]\n",
    "conjugations = [\"aor\", \"cond\", \"fut\", \"imp\", \"imperf\", \"opt\", \"perf\", \"pr\"]\n",
    "declensions = [\"adj\", \"card\", \"cs\", \"fem\", \"letter\", \"masc\", \"nt\", \"ordin\", \"pp\", \"pron\", \"prp\", \"ptp\", \"root\", \"suffix\", \"ve\"]\n",
    "\n",
    "row = 0\n",
    "\n",
    "all_synonyms = open (\"output/all synonyms.csv\", \"w\")\n",
    "\n",
    "for row in range(dpd_df_length): #dpd_df_length\n",
    "\theadword = dpd_df.loc[row, \"Pāli1\"]\n",
    "\theadword_clean = re.sub(\" \\d*$\", \"\", headword)\n",
    "\tstem = dpd_df.loc[row, \"Stem\"]\n",
    "\tif stem == \"*\":\n",
    "\t\tstem = \"\"\n",
    "\tpattern = dpd_df.loc[row, \"Pattern\"]\n",
    "\tpos = dpd_df.loc[row, \"POS\"]\n",
    "\tmetadata = dpd_df.loc[row, \"Metadata\"]\n",
    "\tmeaning = dpd_df.loc[row, \"Meaning IN CONTEXT\"]\n",
    "\tsynonyms = \"\"\n",
    "\n",
    "\tif row % 5000 == 0:\n",
    "\t\tprint(f\"{row}/{dpd_df_length}\\t{headword}\")\n",
    "\t\n",
    "\twith open(f\"output/html/{headword}.html\", \"w\") as html_table:\n",
    "\n",
    "\t\tif stem == \"-\":\n",
    "\t\t\thtml_table.write(f\"<p><b>{headword_clean}</b> is indeclinable\")\n",
    "\t\t\tsynonyms += headword_clean + \" \"\n",
    "\n",
    "\t\telif stem == \"!\":\n",
    "\t\t\thtml_table.write(f\"<p>click on <b>{pattern}</b> for inflection table\")\n",
    "\t\t\tsynonyms += headword_clean + \" \"\n",
    "\n",
    "\t\telse:\n",
    "\t\t\tdf = pd.read_csv(f\"output/patterns/{pattern}.csv\", sep=\"\\t\", index_col=0)\n",
    "\t\t\tdf.fillna(\"\", inplace=True, axis=0)\n",
    "\t\t\t\n",
    "\t\t\tdf_rows = df.shape[0]\n",
    "\t\t\tdf_columns = df.shape[1]\n",
    "\n",
    "\t\t\tfor rows in range(0, df_rows): \n",
    "\t\t\t\tfor columns in range(0, df_columns, 2): #1 to 0\n",
    "\t\t\t\t\t\n",
    "\t\t\t\t\thtml_cell = df.iloc[rows, columns]\n",
    "\t\t\t\t\tsyn_cell = df.iloc[rows, columns]\t\n",
    "\n",
    "\t\t\t\t\tif html_cell == \"sg\" or html_cell == \"pl\":\n",
    "\t\t\t\t\t\tpass\n",
    "\n",
    "\t\t\t\t\telse:\n",
    "\t\t\t\t\t\thtml_cell = re.sub(r\"(.+)\", f\"<b>\\\\1</b>\", html_cell) # add bold\n",
    "\t\t\t\t\t\thtml_cell = re.sub(r\"(.+)\", f\"{stem}\\\\1\", html_cell) # add stem\n",
    "\t\t\t\t\t\thtml_cell = re.sub(r\"\\n\", \"<br>\", html_cell) # add line breaks\n",
    "\t\t\t\t\t\tdf.iloc[rows, columns] = html_cell\n",
    "\t\t\t\t\t\t\n",
    "\t\t\t\t\t\tsyn_cell = re.sub(r\"(.+)\", f\"{stem}\\\\1\", syn_cell)\n",
    "\t\t\t\t\t\tsearch_string = re.compile(\"\\n\", re.M)\n",
    "\t\t\t\t\t\treplace_string = \" \"\n",
    "\t\t\t\t\t\tmatches = re.sub(search_string, replace_string, syn_cell)\n",
    "\t\t\t\t\t\tsynonyms += matches + \" \"\n",
    "\t\t\t\n",
    "\t\t\tcolumn_list = []\n",
    "\t\t\tfor i in range(1, df_columns, 2):\n",
    "\t\t\t\tcolumn_list.append(i)\n",
    "\n",
    "\t\t\tdf.drop(df.columns[column_list], axis=1, inplace=True)\n",
    "\t\t\ttable = df.to_html(escape=False)\n",
    "\t\t\ttable = re.sub(\"Unnamed.+\", \"\", table)\n",
    "\t\t\ttable = re.sub(\"NaN\", \"\", table)\n",
    "\n",
    "\t\t\t# write header info\n",
    "\n",
    "\t\t\tif index_dict[pattern] != \"\":\n",
    "\t\t\t\tif pos in declensions:\n",
    "\t\t\t\t\theading = (f\"\"\"<p class=\"heading\"><b>{headword_clean}</b> is <b>{pattern}</b> declension like <b>{index_dict[pattern]}</b></p>\"\"\")\n",
    "\t\t\t\tif pos in conjugations:\n",
    "\t\t\t\t\theading = (f\"\"\"<p class=\"heading\"><b>{headword_clean}</b> is <b>{pattern}</b> conjugation like <b>{index_dict[pattern]}</b></p>\"\"\")\n",
    "\n",
    "\t\t\tif index_dict[pattern] == \"\":\n",
    "\t\t\t\tif pos in declensions:\n",
    "\t\t\t\t\theading = (f\"\"\"<p class=\"heading\"><b>{headword_clean}</b> is <b>{pattern}</b> irregular declension</p>\"\"\")\n",
    "\t\t\t\tif pos in conjugations:\n",
    "\t\t\t\t\theading = (f\"\"\"<p class=\"heading\"><b>{headword_clean}</b> is <b>{pattern}</b> irregular conjugation</p>\"\"\")\n",
    "\t\t\t\n",
    "\t\t\thtml = heading + table\n",
    "\t\t\thtml_table.write(html)\n",
    "\n",
    "\tall_synonyms.write(f\"{headword}\t{synonyms}\\n\")\n",
    "\n",
    "all_synonyms.close()"
   ]
  },
  {
   "cell_type": "markdown",
   "metadata": {},
   "source": [
    "transcribe synonyms"
   ]
  },
  {
   "cell_type": "code",
   "execution_count": 8,
   "metadata": {},
   "outputs": [
    {
     "name": "stdout",
     "output_type": "stream",
     "text": [
      "~~~~~~~~~~~~~~~~~~~~~~~~~~~~~~~~~~~~~~~~\n",
      "converting synonyms to sinhala and devanagari\n",
      "~~~~~~~~~~~~~~~~~~~~~~~~~~~~~~~~~~~~~~~~\n"
     ]
    }
   ],
   "source": [
    "print(\"~\" * 40)\n",
    "print(\"converting synonyms to sinhala and devanagari\")\n",
    "\n",
    "\n",
    "all_synonyms = open(\"output/all synonyms.csv\", \"r\")\n",
    "all_synonyms_read = all_synonyms.read()\n",
    "all_synonyms.close()\n",
    "\n",
    "all_synonyms_translit = open(\"output/all synonyms translt.csv\", \"w\")\n",
    "\n",
    "sinhala = transliterate.process(\"IAST\",\"Sinhala\", all_synonyms_read, post_options =['SinhalaPali', 'SinhalaConjuncts'])\n",
    "devanagari = transliterate.process(\"IAST\",\"Devanagari\",all_synonyms_read, post_options = ['DevanagariAnusvara'])\n",
    "\n",
    "roman = all_synonyms_read.split(\"\\n\")[:-1]\n",
    "sinhala = sinhala.split(\"\\n\")\n",
    "devanagari = devanagari.split(\"\\n\")\n",
    "\n",
    "for i in zip(roman, sinhala, devanagari):\t\n",
    "  all_synonyms_translit.write(i[0]+i[1].split(\"\\t\")[1]+i[2].split(\"\\t\")[1]+\"\\n\")\n",
    "\n",
    "all_synonyms_translit.close()"
   ]
  },
  {
   "cell_type": "markdown",
   "metadata": {},
   "source": [
    "export to pickle"
   ]
  },
  {
   "cell_type": "code",
   "execution_count": 5,
   "metadata": {},
   "outputs": [
    {
     "name": "stdout",
     "output_type": "stream",
     "text": [
      "~~~~~~~~~~~~~~~~~~~~~~~~~~~~~~~~~~~~~~~~\n",
      "exporting synonyms to pickle\n"
     ]
    }
   ],
   "source": [
    "print(\"~\" * 40)\n",
    "print(\"exporting synonyms to pickle\")\n",
    "\n",
    "\n",
    "all_synonyms = pd.read_csv(\"output/all synonyms translt.csv\", header=None, sep=\"\\t\")\n",
    "\n",
    "length = len(all_synonyms)\n",
    "\n",
    "for row in range(length):\n",
    "\theadword = all_synonyms.iloc[row, 0]\n",
    "\tsynonyms = all_synonyms.iloc[row, 1]\n",
    "\n",
    "\tsynonyms_list = synonyms.split()\n",
    "\n",
    "\t# add ṁ version\n",
    "\n",
    "\tfor word in synonyms_list:\n",
    "\t\tif 'ṃ' in word:\n",
    "\t\t\twordṁ = re.sub(\"ṃ\", \"ṁ\", word) \n",
    "\t\t\tsynonyms_list.append(wordṁ)\n",
    "\n",
    "\tsynonyms_list = list(dict.fromkeys(synonyms_list))\n",
    "\n",
    "\twith open(f\"output/synonyms/{headword}\", \"wb\") as text_file:\n",
    "\t\tpickle.dump(synonyms_list, text_file)"
   ]
  }
 ],
 "metadata": {
  "interpreter": {
   "hash": "8a94588eda9d64d9e9a351ab8144e55b1fabf5113b54e67dd26a8c27df0381b3"
  },
  "kernelspec": {
   "display_name": "Python 3.10.1 64-bit",
   "language": "python",
   "name": "python3"
  },
  "language_info": {
   "codemirror_mode": {
    "name": "ipython",
    "version": 3
   },
   "file_extension": ".py",
   "mimetype": "text/x-python",
   "name": "python",
   "nbconvert_exporter": "python",
   "pygments_lexer": "ipython3",
   "version": "3.10.1"
  },
  "orig_nbformat": 4
 },
 "nbformat": 4,
 "nbformat_minor": 2
}
