{
 "cells": [
  {
   "cell_type": "code",
   "execution_count": 2,
   "metadata": {},
   "outputs": [],
   "source": [
    "# first convert ods to csv\n",
    "\n",
    "import pandas as pd\n",
    "import pickle\n",
    "from aksharamukha import transliterate\n",
    "import re"
   ]
  },
  {
   "cell_type": "code",
   "execution_count": 3,
   "metadata": {},
   "outputs": [],
   "source": [
    "dpd_df = pd.read_csv(\"/home/bhikkhu/Bodhirasa/Dropbox/dpd/csvs/dpd-full.csv\", sep=\"\\t\", dtype=str)\n",
    "dpd_df.fillna(\"\", inplace=True)\n",
    "dpd_df_length = len(dpd_df)"
   ]
  },
  {
   "cell_type": "markdown",
   "metadata": {},
   "source": [
    "read in inflections table"
   ]
  },
  {
   "cell_type": "code",
   "execution_count": 4,
   "metadata": {},
   "outputs": [],
   "source": [
    "# inflection_df = pd.read_excel('/home/bhikkhu/Bodhirasa/Dropbox/dpd/inflection-generator/declensions & conjugations.xlsx', sheet_name=\"declensions\", dtype=str)\n",
    "\n",
    "# inflection_df = inflection_df.shift(periods=2)\n",
    "\n",
    "# inflection_df.columns = [\"A\", \"B\", \"C\", \"D\", \"E\", \"F\", \"G\", \"H\", \"I\", \"J\", \"K\", \"L\", \"M\", \"N\", \"O\", \"P\", \"Q\", \"R\", \"S\", \"T\", \"U\", \"V\", \"W\", \"X\", \"Y\", \"Z\", \"AA\", \"AB\", \"AC\", \"AD\", \"AE\", \"AF\", \"AG\", \"AH\", \"AI\", \"AJ\", \"AK\", \"AL\", \"AM\", \"AN\", \"AO\", \"AP\", \"AQ\", \"AR\", \"AS\", \"AT\", \"AU\", \"AV\", \"AW\", \"AX\", \"AY\", \"AZ\", \"BA\", \"BB\", \"BC\", \"BD\", \"BE\", \"BF\", \"BG\", \"BH\", \"BI\", \"BJ\", \"BK\", \"BL\", \"BM\", \"BN\", \"BO\", \"BP\", \"BQ\", \"BR\", \"BS\", \"BT\", \"BU\", \"BV\", \"BW\", \"BX\", \"BY\", \"BZ\", \"CA\", \"CB\", \"CC\", \"CD\", \"CE\", \"CF\", \"CG\", \"CH\", \"CI\", \"CJ\", \"CK\", \"CL\", \"CM\", \"CN\", \"CO\", \"CP\", \"CQ\", \"CR\", \"CS\", \"CT\", \"CU\", \"CV\", \"CW\", \"CX\", \"CY\", \"CZ\", \"DA\", \"DB\", \"DC\", \"DD\", \"DE\", \"DF\", \"DG\", \"DH\", \"DI\", \"DJ\", \"DK\"]\n",
    "# inflection_df.fillna(\"\", inplace=True)"
   ]
  },
  {
   "cell_type": "markdown",
   "metadata": {},
   "source": [
    "read index"
   ]
  },
  {
   "cell_type": "code",
   "execution_count": 5,
   "metadata": {},
   "outputs": [],
   "source": [
    "# index_df = pd.read_excel('/home/bhikkhu/Bodhirasa/Dropbox/dpd/inflection-generator/declensions & conjugations.xlsx', sheet_name=\"index\", dtype=str)\n",
    "# index_df.fillna(\"\", inplace=True)\n",
    "# # index_df[\"inflection name\"] = index_df[\"inflection name\"].str.replace(\" \", \"_\") #only needed if using as variable\n",
    "# index_df_length = len(index_df)\n"
   ]
  },
  {
   "cell_type": "markdown",
   "metadata": {},
   "source": [
    "generate df's of each inflection pattern"
   ]
  },
  {
   "cell_type": "code",
   "execution_count": 6,
   "metadata": {},
   "outputs": [],
   "source": [
    "# import re\n",
    "\n",
    "# for row in range(index_df_length):\n",
    "# \tinflection_name = index_df.iloc[row,0]\n",
    "# \tcell_range = index_df.iloc[row,1]\n",
    "# \tlike = index_df.iloc[row,2]\n",
    "# \tirreg = index_df.iloc[row,3]\n",
    "\n",
    "# \tcol_range_1 = re.sub(\"(.+?)\\d*\\:.+\", \"\\\\1\", cell_range)\n",
    "# \tcol_range_2 = re.sub(\".+\\:(.[A-Z]*)\\d*\", \"\\\\1\", cell_range)\n",
    "# \trow_range_1 = int(re.sub(\".+?(\\d{1,3}):.+\", \"\\\\1\", cell_range))\n",
    "# \trow_range_2 = int(re.sub(\".+:.+?(\\d{1,3})\", \"\\\\1\", cell_range))\n",
    "\n",
    "# \t# print (f\"{inflection_name} || {cell_range} || {col_range_1}:{col_range_2} || {row_range_1}:{row_range_2}\")\n",
    "\n",
    "# \tinflection_df_filtered = inflection_df.loc[row_range_1:row_range_2, col_range_1:col_range_2]\n",
    "# \tinflection_df_filtered.Name =  f\"{inflection_name}\" #help! change the name to \"inflection name\" \n",
    "\n",
    "# \tinflection_df_filtered.to_csv(f\"output/patterns/{inflection_name}.csv\", sep=\"\\t\", index=False, header=False)"
   ]
  },
  {
   "cell_type": "markdown",
   "metadata": {},
   "source": [
    "generate string of all inflections for each headword"
   ]
  },
  {
   "cell_type": "code",
   "execution_count": 32,
   "metadata": {},
   "outputs": [
    {
     "name": "stdout",
     "output_type": "stream",
     "text": [
      "0 akakkasa\n",
      "5000 ambasaṇḍa\n",
      "10000 ubhatobhāgavimutta\n",
      "15000 guṇagaṇa\n",
      "20000 dukkhena 2\n",
      "25000 paṭisedhesi 1\n",
      "30000 buddhaveneyya\n",
      "35000 vajjaṃ\n",
      "40000 sandhāraṇa 1\n"
     ]
    }
   ],
   "source": [
    "\n",
    "\n",
    "all_inflections_dict = {}\n",
    "all_inflections = \"\"\n",
    "\n",
    "for row in range(dpd_df_length): #dpd_df_length\n",
    "\tinflections = \"\"\n",
    "\theadword = dpd_df.loc[row, \"Pāli1\"]\n",
    "\theadword_clean = re.sub(\" \\d*$\", \"\", headword)\n",
    "\tstem = dpd_df.loc[row, \"Stem\"]\n",
    "\tif stem == \"*\":\n",
    "\t\tstem = \"\"\n",
    "\tpattern = dpd_df.loc[row, \"Pattern\"]\n",
    "\tpos = dpd_df.loc[row, \"POS\"]\n",
    "\tmetadata = dpd_df.loc[row, \"Metadata\"]\n",
    "\tmeaning = dpd_df.loc[row, \"Meaning IN CONTEXT\"]\n",
    "\n",
    "\tif row % 5000 == 0:\n",
    "\t\tprint(f\"{row} {headword}\")\n",
    "\n",
    "\tif pos != \"prefix\" and pos != \"cs\" and pos != \"suffix\" and pos != \"ve\" and pos != \"idiom\" and meaning != \"\" and metadata != \"yes\":\n",
    "\t\t# print(f\"{headword=} {headword_clean=} {stem=} {pattern=} {pos=} {metadata=} {meaning=}\")\n",
    "\n",
    "\t\tif stem == \"-\":\n",
    "\t\t\tinflections += headword_clean + \" \"\n",
    "\n",
    "\t\telif stem == \"!\":\n",
    "\t\t\tinflections += headword_clean + \" \"\n",
    "\n",
    "\t\telse:\n",
    "\t\t\tinflections += headword_clean + \" \"\n",
    "\t\t\ttry:\n",
    "\t\t\t\tdf = pd.read_csv(f\"output/patterns/{pattern}.csv\", sep=\"\\t\", header=None)\n",
    "\t\t\t\tdf.fillna(\"\", inplace=True)\n",
    "\t\t\t\tdf_rows = df.shape[0]\n",
    "\t\t\t\tdf_columns = df.shape[1]\n",
    "\n",
    "\t\t\t\tfor rows in range(1, df_rows):\n",
    "\t\t\t\t\tfor columns in range(1, df_columns, 2):\n",
    "\t\t\t\t\t\tline = df.iloc[rows, columns]\n",
    "\t\t\t\t\t\tif line == \"sg\" or line == \"pl\":\n",
    "\t\t\t\t\t\t\tpass\n",
    "\n",
    "\t\t\t\t\t\telse:\n",
    "\t\t\t\t\t\t\tline = re.sub(r\"(.+)\", f\"{stem}\\\\1\", line)\n",
    "\t\t\t\t\t\t\tsearch_string = re.compile(\"\\n\", re.M)\n",
    "\t\t\t\t\t\t\treplace_string = \" \"\n",
    "\t\t\t\t\t\t\tmatches = re.sub(search_string, replace_string, line)\n",
    "\n",
    "\t\t\t\t\t\t\tinflections += matches + \" \"\n",
    "\n",
    "\t\t\texcept:\n",
    "\t\t\t\twith open(\"/home/bhikkhu/Bodhirasa/Dropbox/dpd/errorlogs/all inflected forms errorlog.txt\", \"a\") as error_log:\n",
    "\t\t\t\t\terror_log.write(f\"error on: {headword}\\n\")\n",
    "\n",
    "\tall_inflections += inflections\n",
    "\n",
    "\tthis_word_synonyms = {headword : inflections}\n",
    "\tall_inflections_dict.update(this_word_synonyms)\n"
   ]
  },
  {
   "cell_type": "markdown",
   "metadata": {},
   "source": [
    "dedupe and convert to df"
   ]
  },
  {
   "cell_type": "code",
   "execution_count": 33,
   "metadata": {},
   "outputs": [],
   "source": [
    "all_inflections_list = all_inflections.split()\n",
    "all_inflections_list = list(dict.fromkeys(all_inflections_list))\n",
    "all_inflections_df = pd.DataFrame(all_inflections_list)\n",
    "all_inflections_df.to_csv(\"output/all inflected forms.csv\", index=False, header=False)"
   ]
  },
  {
   "cell_type": "markdown",
   "metadata": {},
   "source": [
    "find all headwords with one eg"
   ]
  },
  {
   "cell_type": "code",
   "execution_count": 18,
   "metadata": {},
   "outputs": [],
   "source": [
    "no_sutta2_list = []\n",
    "for row in range(dpd_df_length):\n",
    "\theadword = dpd_df.loc[row, \"Pāli1\"]\n",
    "\tsutta1 = dpd_df.loc[row, \"Source1\"]\n",
    "\tsutta2 = dpd_df.loc[row, \"Source 2\"]\n",
    "\n",
    "\tif sutta1 != \"\" and sutta2 == \"\":\n",
    "\t\tno_sutta2_list.append(headword)"
   ]
  },
  {
   "cell_type": "markdown",
   "metadata": {},
   "source": [
    "make string of all inflections with no eg2"
   ]
  },
  {
   "cell_type": "code",
   "execution_count": 35,
   "metadata": {},
   "outputs": [],
   "source": [
    "no_eg2_inflections = \"\"\n",
    "for item in no_sutta2_list:\n",
    "\tno_eg2_inflections += all_inflections_dict[item]\n",
    "\n",
    "no_eg2_inflections_list = no_eg2_inflections.split()\n",
    "no_eg2_inflections_list = list(dict.fromkeys(no_eg2_inflections_list))\n",
    "no_eg2_inflections_df = pd.DataFrame(no_eg2_inflections_list)\n",
    "no_eg2_inflections_df.to_csv(\"output/no eg2.csv\", index=False, header=False)"
   ]
  },
  {
   "cell_type": "markdown",
   "metadata": {},
   "source": []
  }
 ],
 "metadata": {
  "interpreter": {
   "hash": "8a94588eda9d64d9e9a351ab8144e55b1fabf5113b54e67dd26a8c27df0381b3"
  },
  "kernelspec": {
   "display_name": "Python 3.10.1 64-bit",
   "language": "python",
   "name": "python3"
  },
  "language_info": {
   "codemirror_mode": {
    "name": "ipython",
    "version": 3
   },
   "file_extension": ".py",
   "mimetype": "text/x-python",
   "name": "python",
   "nbconvert_exporter": "python",
   "pygments_lexer": "ipython3",
   "version": "3.10.1"
  },
  "orig_nbformat": 4
 },
 "nbformat": 4,
 "nbformat_minor": 2
}
